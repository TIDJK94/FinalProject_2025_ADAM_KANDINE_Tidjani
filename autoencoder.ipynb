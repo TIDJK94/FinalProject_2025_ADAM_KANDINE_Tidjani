{
 "cells": [
  {
   "cell_type": "markdown",
   "id": "a7b4f348",
   "metadata": {},
   "source": [
    "## 1. Setup and Imports\n",
    "\n",
    "We start by importing PyTorch and preparing our user–item interaction matrix from the training data.\n"
   ]
  },
  {
   "cell_type": "code",
   "execution_count": null,
   "id": "53570524",
   "metadata": {},
   "outputs": [],
   "source": [
    "import pandas as pd\n",
    "import numpy as np\n",
    "import torch\n",
    "from torch import nn\n",
    "from torch.utils.data import Dataset, DataLoader\n",
    "from sklearn.model_selection import train_test_split\n",
    "from scipy.sparse import csr_matrix\n"
   ]
  },
  {
   "cell_type": "markdown",
   "id": "26a30985",
   "metadata": {},
   "source": [
    "## Load and clean every important files\n",
    "\n",
    "*Applying `eval` to each entry in the corresponding column, converting string representations of Python literals into their actual Python objects.*\n",
    "\n",
    "Here, cleaning is quite straightforward: it is just about removing null values and duplicates."
   ]
  },
  {
   "cell_type": "code",
   "execution_count": 1,
   "id": "68bbe20e",
   "metadata": {},
   "outputs": [
    {
     "name": "stdout",
     "output_type": "stream",
     "text": [
      "Loading datasets...\n"
     ]
    },
    {
     "ename": "",
     "evalue": "",
     "output_type": "error",
     "traceback": [
      "\u001b[1;31mThe Kernel crashed while executing code in the current cell or a previous cell. \n",
      "\u001b[1;31mPlease review the code in the cell(s) to identify a possible cause of the failure. \n",
      "\u001b[1;31mClick <a href='https://aka.ms/vscodeJupyterKernelCrash'>here</a> for more info. \n",
      "\u001b[1;31mView Jupyter <a href='command:jupyter.viewOutput'>log</a> for further details."
     ]
    }
   ],
   "source": [
    "from utils import load_and_clean_data\n",
    "\n",
    "big_matrix, small_matrix, social_network, item_categories, user_features, item_daily_features = load_and_clean_data()"
   ]
  },
  {
   "cell_type": "markdown",
   "id": "c4dfe318",
   "metadata": {},
   "source": [
    "## 2. Prepare User-Item Interaction Matrix\n",
    "\n",
    "We create a dense matrix `users × items` with binary entries:  \n",
    "1 if the user had a positive interaction (`watch_ratio ≥ 2`), 0 otherwise.\n"
   ]
  },
  {
   "cell_type": "code",
   "execution_count": 147,
   "id": "43628e8e",
   "metadata": {},
   "outputs": [],
   "source": [
    "# Load and binarize data\n",
    "train_df = big_matrix.copy()\n",
    "train_df['interaction'] = (train_df['watch_ratio'] >= 2).astype(int)\n",
    "\n",
    "# Build user/item index mappings\n",
    "user_ids = train_df['user_id'].unique().tolist()\n",
    "item_ids = train_df['video_id'].unique().tolist()\n",
    "user2idx = {u:i for i,u in enumerate(user_ids)}\n",
    "item2idx = {v:i for i,v in enumerate(item_ids)}\n",
    "\n",
    "n_users = len(user_ids)\n",
    "n_items = len(item_ids)\n",
    "\n",
    "# Create sparse interaction matrix\n",
    "train_df['u_idx'] = train_df['user_id'].map(user2idx)\n",
    "train_df['i_idx'] = train_df['video_id'].map(item2idx)\n",
    "\n",
    "interaction_matrix = csr_matrix(\n",
    "    ((train_df['watch_ratio'] >= 2).astype(int),\n",
    "     (train_df['u_idx'], train_df['i_idx'])),\n",
    "    shape=(n_users, n_items)\n",
    ").toarray()\n"
   ]
  },
  {
   "cell_type": "markdown",
   "id": "49df0fd3",
   "metadata": {},
   "source": [
    "## 3. Define the Autoencoder Architecture\n",
    "\n",
    "We use a simple architecture:  \n",
    "**Input → Hidden (ReLU) → Output (Sigmoid)**  \n",
    "This allows the model to compress user preferences into a latent space and then decode predictions over all items.\n"
   ]
  },
  {
   "cell_type": "code",
   "execution_count": 148,
   "id": "5e34c14f",
   "metadata": {},
   "outputs": [],
   "source": [
    "class DeepAutoEncoder(nn.Module):\n",
    "    def __init__(self, input_dim, hidden_dims=[512, 256], dropout=0.3):\n",
    "        super().__init__()\n",
    "        self.encoder = nn.Sequential(\n",
    "            nn.Linear(input_dim, hidden_dims[0]),\n",
    "            nn.ReLU(),\n",
    "            nn.Dropout(dropout),\n",
    "            nn.Linear(hidden_dims[0], hidden_dims[1]),\n",
    "            nn.ReLU(),\n",
    "        )\n",
    "        self.decoder = nn.Sequential(\n",
    "            nn.Linear(hidden_dims[1], hidden_dims[0]),\n",
    "            nn.ReLU(),\n",
    "            nn.Dropout(dropout),\n",
    "            nn.Linear(hidden_dims[0], input_dim),\n",
    "            nn.Sigmoid()\n",
    "        )\n",
    "\n",
    "    def forward(self, x):\n",
    "        z = self.encoder(x)\n",
    "        return self.decoder(z)\n"
   ]
  },
  {
   "cell_type": "markdown",
   "id": "5c0eee25",
   "metadata": {},
   "source": [
    "## 4. Create Dataset and DataLoader\n",
    "\n",
    "Each sample is a binary vector of a user's interactions over all items.\n"
   ]
  },
  {
   "cell_type": "code",
   "execution_count": 149,
   "id": "a28a6ba1",
   "metadata": {},
   "outputs": [],
   "source": [
    "class InteractionDataset(Dataset):\n",
    "    def __init__(self, user_item_matrix):\n",
    "        self.data = torch.FloatTensor(user_item_matrix).clamp(0, 1)  # safe clipping\n",
    "\n",
    "    def __len__(self):\n",
    "        return self.data.size(0)\n",
    "\n",
    "    def __getitem__(self, idx):\n",
    "        return self.data[idx]\n",
    "\n",
    "dataset = InteractionDataset(interaction_matrix)\n",
    "train_loader = DataLoader(dataset, batch_size=128, shuffle=True)\n"
   ]
  },
  {
   "cell_type": "markdown",
   "id": "eb4ac815",
   "metadata": {},
   "source": [
    "## 5. Train the Autoencoder\n",
    "\n",
    "We use binary cross-entropy loss, and optimize using Adam.\n"
   ]
  },
  {
   "cell_type": "code",
   "execution_count": 150,
   "id": "abf607e2",
   "metadata": {},
   "outputs": [
    {
     "name": "stdout",
     "output_type": "stream",
     "text": [
      "Epoch 1/20 - Loss: 39.3665\n",
      "Epoch 2/20 - Loss: 38.3540\n",
      "Epoch 3/20 - Loss: 33.8918\n",
      "Epoch 4/20 - Loss: 24.2534\n",
      "Epoch 5/20 - Loss: 15.3866\n",
      "Epoch 6/20 - Loss: 11.0040\n",
      "Epoch 7/20 - Loss: 8.9717\n",
      "Epoch 8/20 - Loss: 7.8537\n",
      "Epoch 9/20 - Loss: 7.1200\n",
      "Epoch 10/20 - Loss: 6.5308\n",
      "Epoch 11/20 - Loss: 6.1354\n",
      "Epoch 12/20 - Loss: 5.6918\n",
      "Epoch 13/20 - Loss: 5.3319\n",
      "Epoch 14/20 - Loss: 5.0464\n",
      "Epoch 15/20 - Loss: 4.6999\n",
      "Epoch 16/20 - Loss: 4.5002\n",
      "Epoch 17/20 - Loss: 4.2833\n",
      "Epoch 18/20 - Loss: 4.0819\n",
      "Epoch 19/20 - Loss: 3.9691\n",
      "Epoch 20/20 - Loss: 3.8534\n"
     ]
    }
   ],
   "source": [
    "model = DeepAutoEncoder(input_dim=n_items, hidden_dims=[256, 128], dropout=0.3)\n",
    "optimizer = torch.optim.Adam(model.parameters(), lr=2e-5)\n",
    "criterion = nn.BCELoss()\n",
    "\n",
    "# Use the same DataLoader as before\n",
    "epochs = 20\n",
    "model.train()\n",
    "for epoch in range(epochs):\n",
    "    total_loss = 0\n",
    "    for batch in train_loader:\n",
    "        optimizer.zero_grad()\n",
    "        output = model(batch)\n",
    "        loss = criterion(output, batch)\n",
    "        loss.backward()\n",
    "        optimizer.step()\n",
    "        total_loss += loss.item()\n",
    "    print(f\"Epoch {epoch+1}/{epochs} - Loss: {total_loss:.4f}\")\n"
   ]
  },
  {
   "cell_type": "markdown",
   "id": "d1e4cf36",
   "metadata": {},
   "source": [
    "## 6. Generate Recommendations\n",
    "\n",
    "For a user, we score all items, then exclude already seen ones and keep the top-K.\n"
   ]
  },
  {
   "cell_type": "code",
   "execution_count": 151,
   "id": "6493cc3d",
   "metadata": {},
   "outputs": [
    {
     "name": "stdout",
     "output_type": "stream",
     "text": [
      "Recommended items for user: [314, 8366, 3400, 2894, 4123, 2130, 1305, 5434, 3723, 5525]\n"
     ]
    }
   ],
   "source": [
    "def recommend_top_k(user_idx, K=10):\n",
    "    model.eval()\n",
    "    with torch.no_grad():\n",
    "        input_vec = torch.FloatTensor(interaction_matrix[user_idx]).unsqueeze(0)\n",
    "        scores = model(input_vec).squeeze().numpy()\n",
    "        \n",
    "        # Exclude seen items\n",
    "        seen = set(np.where(interaction_matrix[user_idx] == 1)[0])\n",
    "        scores[list(seen)] = -1  # mask\n",
    "\n",
    "        # Get top K item indices\n",
    "        top_items = np.argsort(scores)[-K:][::-1]\n",
    "        return [item_ids[i] for i in top_items]\n",
    "\n",
    "# Example\n",
    "user_index = 0\n",
    "print(\"Recommended items for user:\", recommend_top_k(user_index))\n"
   ]
  },
  {
   "cell_type": "markdown",
   "id": "9917b561",
   "metadata": {},
   "source": [
    "## 7. Evaluation: Top-K Metrics\n",
    "\n",
    "We evaluate our autoencoder-based recommender using standard ranking metrics:\n",
    "- **Precision@K**: how many of the top-K predictions are relevant?\n",
    "- **Recall@K**: how much of the user's true positives are recovered?\n",
    "- **NDCG@K**: do the true positives appear early in the ranking?\n",
    "- **MAP@K**: average precision across positions where hits occur.\n",
    "\n",
    "We only evaluate users who have **at least one positive item in the test set**.\n"
   ]
  },
  {
   "cell_type": "code",
   "execution_count": 152,
   "id": "70b67d1d",
   "metadata": {},
   "outputs": [],
   "source": [
    "def precision_at_k(recs, actual, k):\n",
    "    return len(set(recs[:k]) & set(actual)) / k\n",
    "\n",
    "def recall_at_k(recs, actual, k):\n",
    "    return len(set(recs[:k]) & set(actual)) / len(actual) if actual else 0\n",
    "\n",
    "def dcg_at_k(recs, actual, k):\n",
    "    return sum((1 if r in actual else 0)/np.log2(i+2) for i, r in enumerate(recs[:k]))\n",
    "\n",
    "def ndcg_at_k(recs, actual, k):\n",
    "    idcg = sum(1/np.log2(i+2) for i in range(min(len(actual), k)))\n",
    "    return dcg_at_k(recs, actual, k) / idcg if idcg else 0\n",
    "\n",
    "def map_at_k(recs, actual, k):\n",
    "    hits, sum_prec = 0, 0.0\n",
    "    for i, r in enumerate(recs[:k]):\n",
    "        if r in actual:\n",
    "            hits += 1\n",
    "            sum_prec += hits / (i + 1)\n",
    "    return sum_prec / min(len(actual), k) if actual else 0\n"
   ]
  },
  {
   "cell_type": "markdown",
   "id": "5ffff387",
   "metadata": {},
   "source": [
    "### Load and prepare the test set\n",
    "\n",
    "We filter the test interactions (from `small_matrix.csv`) to users/items present in training, and keep only the positives (watch_ratio ≥ 2).\n"
   ]
  },
  {
   "cell_type": "code",
   "execution_count": 153,
   "id": "9cbeff1b",
   "metadata": {},
   "outputs": [],
   "source": [
    "test_df = small_matrix.copy()\n",
    "test_df = test_df[\n",
    "    test_df['user_id'].isin(user2idx) &\n",
    "    test_df['video_id'].isin(item2idx)\n",
    "].copy()\n",
    "test_df['interaction'] = (test_df['watch_ratio'] >= 2).astype(int)\n",
    "test_df['u_idx'] = test_df['user_id'].map(user2idx)\n",
    "test_df['i_idx'] = test_df['video_id'].map(item2idx)\n",
    "\n",
    "ground_truth = test_df[test_df['interaction'] == 1].groupby('u_idx')['i_idx'].apply(set).to_dict()\n"
   ]
  },
  {
   "cell_type": "markdown",
   "id": "32f569ad",
   "metadata": {},
   "source": [
    "## Evaluate the Autoencoder on Top-K Recommendation\n",
    "\n",
    "We compute scores using the model, exclude already seen items, and keep the top-K per user.\n"
   ]
  },
  {
   "cell_type": "code",
   "execution_count": 154,
   "id": "0a7cd97b",
   "metadata": {},
   "outputs": [
    {
     "name": "stdout",
     "output_type": "stream",
     "text": [
      "=== Deep Autoencoder @K=10 ===\n",
      "Precision@10: 0.5227\n",
      "Recall@10   : 0.0915\n",
      "NDCG@10     : 0.5586\n",
      "MAP@10      : 0.3996\n"
     ]
    }
   ],
   "source": [
    "K = 10\n",
    "model.eval()\n",
    "metrics = {'prec': [], 'rec': [], 'ndcg': [], 'map': []}\n",
    "\n",
    "with torch.no_grad():\n",
    "    for uidx, actual in ground_truth.items():\n",
    "        input_vec = torch.FloatTensor(interaction_matrix[uidx]).unsqueeze(0)\n",
    "        output_vec = model(input_vec).squeeze().numpy()\n",
    "\n",
    "        seen = set(np.where(interaction_matrix[uidx] == 1)[0])\n",
    "        output_vec[list(seen)] = -1\n",
    "\n",
    "        top_k = np.argsort(output_vec)[-K:][::-1]\n",
    "\n",
    "        metrics['prec'].append(precision_at_k(top_k, actual, K))\n",
    "        metrics['rec'].append(recall_at_k(top_k, actual, K))\n",
    "        metrics['ndcg'].append(ndcg_at_k(top_k, actual, K))\n",
    "        metrics['map'].append(map_at_k(top_k, actual, K))\n",
    "\n",
    "print(\"=== Deep Autoencoder @K=10 ===\")\n",
    "print(f\"Precision@10: {np.mean(metrics['prec']):.4f}\")\n",
    "print(f\"Recall@10   : {np.mean(metrics['rec']):.4f}\")\n",
    "print(f\"NDCG@10     : {np.mean(metrics['ndcg']):.4f}\")\n",
    "print(f\"MAP@10      : {np.mean(metrics['map']):.4f}\")\n"
   ]
  }
 ],
 "metadata": {
  "kernelspec": {
   "display_name": ".venv",
   "language": "python",
   "name": "python3"
  },
  "language_info": {
   "codemirror_mode": {
    "name": "ipython",
    "version": 3
   },
   "file_extension": ".py",
   "mimetype": "text/x-python",
   "name": "python",
   "nbconvert_exporter": "python",
   "pygments_lexer": "ipython3",
   "version": "3.10.12"
  }
 },
 "nbformat": 4,
 "nbformat_minor": 5
}
